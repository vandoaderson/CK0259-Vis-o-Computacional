{
 "cells": [
  {
   "cell_type": "markdown",
   "metadata": {},
   "source": [
    "# Aula 17 - Extração de Características: Texturas\n",
    "\n",
    "## 1. Introdução\n",
    "\n",
    "Além do formato do objeto, a variação de intensidade de seus pixels internos, ou seja, sua textura (do ponto de vista gráfico), pode ser determinante para identificá-lo. Métodos que possam caracterizar uma textura, ou seja, extrair informações essenciais que determinem suas características, são de muita importância para Visão Computacional.\n",
    "\n",
    "Já exploramos na aula 10 (exercício b) como poderíamos utilizar morfologia matemática para segmentar textura. Isso por si só já funciona como algoritmo para caracterizar texturas. Além disso, por estarmos basicamente analisar uma imagem por toda a sua extensão, pelas variações de intensidade de seus pixels, outros métodos, como as transformadas de Fourier e Wavelet podem também ajudar na caracterização.\n",
    "\n",
    "Entretanto, ainda podemos tratar abordagens estatísticas na distribuição das intensidades em uma textura. Podemos calcular média, variância, desvio padrão, assimetria e curtose dos pixels para caracterizá-la. \n",
    "\n",
    "Uma técnica estatística simples e útil que vale destacar é a Matriz de Diferença de Tons de Cinza da Vizinhança. Essa matriz considera a diferença entre o tom de cinza de cada pixel e seus quatro vizinhos (cima, baixo, esquerda e direita) e dela podemos facilmente calcular valores que implicam em aspectos como aspereza, contraste, fineza, complexidade e força. Mais especificamente, a identificação dessas características se dá de acordo com as seguintes observações:\n",
    "\n",
    "- Aspereza: texturas ásperas são aquelas sem variações acentuadas de níveis de cinza, ou seja, a diferença de intensidade de um pixel e a média dos vizinhos é baixa;\n",
    "- Contraste: texturas de alto contraste são aquelas com grande diferenças de intensidades entre regiões vizinhas;\n",
    "- Fineza: texturas finas têm grande variação dos níveis de cinza em uma pequena região;\n",
    "- Força: texturas fortes têm suas primitivas bem definidas e visíveis, o que depende do tamanho e da variação dos níveis de cinza em suas regiões.\n",
    "\n",
    "Ou seja, características essenciais, que de fato são parte da percepção da visão humana sobre a textura são basicamente obtidas a partir da verificação da diferença entre os valores de intensidades de um pixel e seus vizinhos imediatos e também em relação à média da imagem. Para mais detalhes sobre como calcular cada propriedade estatística, siga a leitura complementar sugerida.\n",
    "\n",
    "## 2. Leitura Complementar\n",
    "\n",
    "Livro E – Seções 8.1.1 e 8.1.5\n",
    "Livro 1 – Seção 8.2\n",
    "Livro 3 – Seção 11.3.3\n",
    "\n",
    "## 3. Exercícios\n",
    "\n",
    "a) Escreva um programa para calcular o Histograma de Diferenças de Níveis de Cinza de uma imagem.\n",
    "\n",
    "b) Utilize uma biblioteca de estatística para extrair as características de Aspereza, Contraste, Fineza e Força a partir do histograma do exercício a."
   ]
  },
  {
   "cell_type": "code",
   "execution_count": 3,
   "metadata": {},
   "outputs": [],
   "source": [
    "import cv2\n",
    "import numpy as np\n",
    "from matplotlib import pyplot as grafico"
   ]
  },
  {
   "cell_type": "code",
   "execution_count": 4,
   "metadata": {},
   "outputs": [
    {
     "data": {
      "image/png": "[encoded data removed]",
      "text/plain": [
       "<Figure size 432x288 with 1 Axes>"
      ]
     },
     "metadata": {
      "needs_background": "light"
     },
     "output_type": "display_data"
    },
    {
     "data": {
      "text/plain": [
       "<Figure size 432x288 with 0 Axes>"
      ]
     },
     "metadata": {},
     "output_type": "display_data"
    }
   ],
   "source": [
    "img1 = cv2.imread('HUH9271.png')\n",
    "grafico.hist(img1.ravel(),256,[0,256])\n",
    "grafico.figure();\n",
    "grafico.show()\n",
    "cv2.waitKey(0)\n",
    "cv2.destroyAllWindows()"
   ]
  },
  {
   "cell_type": "code",
   "execution_count": null,
   "metadata": {},
   "outputs": [],
   "source": []
  }
 ],
 "metadata": {
  "kernelspec": {
   "display_name": "Python 3",
   "language": "python",
   "name": "python3"
  },
  "language_info": {
   "codemirror_mode": {
    "name": "ipython",
    "version": 3
   },
   "file_extension": ".py",
   "mimetype": "text/x-python",
   "name": "python",
   "nbconvert_exporter": "python",
   "pygments_lexer": "ipython3",
   "version": "3.8.6"
  }
 },
 "nbformat": 4,
 "nbformat_minor": 4
}
