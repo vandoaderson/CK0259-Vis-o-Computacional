{
 "cells": [
  {
   "cell_type": "markdown",
   "metadata": {},
   "source": [
    "# Aula 08, Operações Morfológicas."
   ]
  },
  {
   "cell_type": "markdown",
   "metadata": {},
   "source": [
    "## 1. Introdução"
   ]
  },
  {
   "cell_type": "markdown",
   "metadata": {},
   "source": [
    "Intuitivamente falando, as operações morfológicas tratam a imagem como um conjunto de formas. Em outras palavras, é como se tentássemos identificar na imagem formas básicas que a compõem.\n",
    "\n",
    "Para realizar tais operações, uma imagem deve ser entendida como um conjunto de elementos, os pixels que formam o objeto de interesse. Isto é, se temos, por exemplo, uma imagem de um círculo preto em um fundo branco, apenas os pixels pretos são considerados elementos (considerando o círculo como nosso objeto de interesse), enquanto os brancos não são considerados como elementos do conjunto. Na verdade, normalmente, por convenção, consideramos os pixels “1” (e, portanto, brancos), como os elementos. Dessa forma, as operações morfológicas básicas são, portanto, operações sobre imagens binárias. Existem também as operações em escala de cinza, mas isso é assunto para outra aula.\n",
    "\n",
    "Dado, então, que uma imagem é tratada como um conjunto de pixels (brancos), e não mais como uma matriz, tem-se uma definição compatível com a teoria dos conjuntos. Assim, podemos definir operações de união e interseção em cima de imagens e, a partir delas, definir finalmente as chamadas operações morfológicas, que processarão a imagem. Essa visão de teoria dos conjuntos é que dá o nome de morfologia matemática aos fundamentos das operações morfológicas.\n",
    "\n",
    "As operações morfológicas, assim como as operações vistas até agora em processamento de imagens, também trabalham com filtros que deslizam sobre a imagem original. Os filtros também são imagens binárias (ou conjunto de elementos, na linguagem da morfologia matemática) que determinam formas a serem “percebidas” na imagem processada. O resultado do processamento será influenciado pelo formato do filtro (considerando apenas os “pixels elementos” e não a matriz).\n",
    "\n",
    "São as operações morfológicas básicas:\n",
    "- Erosão: aumenta os buracos, ou seja, afina o objeto (desenho definido pelos “pixels elementos” - os pixels brancos);\n",
    "- Dilatação: dilata o objeto, ou seja, diminui os buracos (regiões definidas pela ausência de elementos, ou seja, os pixels pretos);\n",
    "- Abertura: Mantém a espessura dos objetos, mas “quebra” suas regiões muito finas, ou seja, “abre buracos” no objetos;\n",
    "- Fechamento: Mantém a espessura dos objetos, mas junta objetos separados por buracos muito pequenos, ou seja, “fecha buracos” nos objetos.\n",
    "\n",
    "Do ponto de vista de visão computacional, essas operações são muito úteis, entre outras coisas, para reconstruir objetos quebrados por ruído (que poderiam ser entendidos como objetos diferentes pelo computador) ou para separar objetos diferentes que, também por problemas na captura, poderiam ser entendidos como um objeto apenas pelo computador."
   ]
  },
  {
   "cell_type": "markdown",
   "metadata": {},
   "source": [
    "## 2. Material de estudo"
   ]
  },
  {
   "cell_type": "markdown",
   "metadata": {},
   "source": [
    "E-Book grátis: A Cengage Learning disponibilizou seus e-books gratuitamente para os professores e alunos da UFC durante a quarentena. Vocês devem ter recebido de suas coordenações o código de acesso. Caso vocês não possuam os livros da bibliografia recomendada originalmente, coloco aqui o seguinte E-Book pelo qual vocês também poderão guiar seus estudos:\n",
    "- Análise de Imagens Digitais: Princípios, Algoritmos e Aplicações, de Hélio Pedrini e William Robson Schwartz.\n",
    "\n",
    "A partir desta aula, passarei também a referenciar esse livro, com o nome de “Livro E”.\n",
    "\n",
    "Para entender melhor como funcionam as operações morfológicas e como implementá-las, recomendo as seguintes leituras: \n",
    "* Livro E – Seções 9.1, 9.2.1 e 9.2.2;\n",
    "* Livro 1 – Seções 6.1 e 6.2;\n",
    "* Livro 2 – Seções 8.1 a 8.3\n",
    "* Livro 3 – Seções 9.1 a 9.3."
   ]
  },
  {
   "cell_type": "markdown",
   "metadata": {},
   "source": [
    "## 3. Exércícios"
   ]
  },
  {
   "cell_type": "markdown",
   "metadata": {},
   "source": [
    "1. Teste, na linguagem de sua preferência, as operações de erosão, dilatação, abertura e fechamento. Para quem estiver seguindo o livro 1, execute os exemplos dados nas seções indicadas para leitura;\n",
    "2. Pegue a imagem da placa de carro disponibilizada no SIGAA, transforme-a em uma imagem binária com fundo preto e letras brancas (coloque em binário utilizando limiarização e depois aplique o negativo) e aplique as operações morfológicas para deixar todas as letras o mais bem definidas e separadas que você conseguir (isto é, sem buracos e separadas)."
   ]
  },
  {
   "cell_type": "code",
   "execution_count": null,
   "metadata": {},
   "outputs": [],
   "source": [
    "import cv2\n",
    "import numpy as np"
   ]
  },
  {
   "cell_type": "markdown",
   "metadata": {},
   "source": [
    "## Dilatação, Erosão, abertura e fechamento "
   ]
  },
  {
   "cell_type": "code",
   "execution_count": null,
   "metadata": {},
   "outputs": [],
   "source": [
    "image = cv2.imread('imagens/opencv_inv.png', 0)\n",
    "\n",
    "cv2.imshow('Original', image)\n",
    "cv2.waitKey(0)\n",
    "\n",
    "kernel = np.ones((5,5), np.uint8)\n",
    "\n",
    "# Erosao\n",
    "erosion = cv2.erode(image, kernel, iterations = 1)\n",
    "cv2.imshow('Erosao', erosion)\n",
    "cv2.waitKey(0)\n",
    "\n",
    "# Dilatação\n",
    "dilation = cv2.dilate(image, kernel, iterations = 1)\n",
    "cv2.imshow('Dilatacao', dilation)\n",
    "cv2.waitKey(0)\n",
    "\n",
    "# Abertura\n",
    "opening = cv2.morphologyEx(image, cv2.MORPH_OPEN, kernel)\n",
    "cv2.imshow('Abertura', opening)\n",
    "cv2.waitKey(0)\n",
    "\n",
    "# Fechamento\n",
    "closing = cv2.morphologyEx(image, cv2.MORPH_CLOSE, kernel)\n",
    "cv2.imshow('fechamento', closing)\n",
    "cv2.waitKey(0)\n",
    "\n",
    "\n",
    "cv2.destroyAllWindows()"
   ]
  },
  {
   "cell_type": "code",
   "execution_count": null,
   "metadata": {},
   "outputs": [],
   "source": []
  },
  {
   "cell_type": "code",
   "execution_count": 4,
   "metadata": {},
   "outputs": [],
   "source": []
  },
  {
   "cell_type": "code",
   "execution_count": null,
   "metadata": {},
   "outputs": [],
   "source": []
  }
 ],
 "metadata": {
  "kernelspec": {
   "display_name": "Python 3",
   "language": "python",
   "name": "python3"
  },
  "language_info": {
   "codemirror_mode": {
    "name": "ipython",
    "version": 3
   },
   "file_extension": ".py",
   "mimetype": "text/x-python",
   "name": "python",
   "nbconvert_exporter": "python",
   "pygments_lexer": "ipython3",
   "version": "3.8.6"
  }
 },
 "nbformat": 4,
 "nbformat_minor": 4
}
