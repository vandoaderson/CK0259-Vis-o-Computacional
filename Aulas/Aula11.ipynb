{
 "cells": [
  {
   "cell_type": "markdown",
   "metadata": {},
   "source": [
    "# Aula 11 – Segmentação: Introdução e métodos básicos"
   ]
  },
  {
   "cell_type": "markdown",
   "metadata": {},
   "source": [
    "## 1. Introdução"
   ]
  },
  {
   "cell_type": "markdown",
   "metadata": {},
   "source": [
    "Segmentação é o processo de dividir a imagem em partes de tal forma que não haja interseções e que a união implique novamente na imagem completa. Do ponto de vista prático para visão computacional, isso significa dividir a imagem em regiões de interesse, ou nos objetos que queremos identificar.\n",
    "\n",
    "Um dos principais e também mais básico método de segmentação é a binarização. Trata-se de um método que divide a imagem pela intensidade dos pixels, jogando em dois grupos: preto e branco. É a limiarização. Isso é muito útil quando o objeto tem intensidade que se difere claramente do restante da imagem. Por exemplo, é o que ocorre com letras escuras em um papel branco. O grande problema da binarização é decidir o valor de limiar ideal que irá jogar os pixels do objeto de interesse para uma classe (pretos, por exemplo) enquanto o restante da imagem ficará na outra. Um modo bastante eficiente de fazer isso é a Binarização de Otsu, que define automaticamente um bom valor de limiar baseado no cálculo da variância dos valores de intensidade dos pixels.\n",
    "\n",
    "Outra segmentação importante é a das bordas, pois facilita bastante a identificação do objeto por sua forma. Filtragens podem ser realizadas para tal, utilizando-se filtros como Sobel, Roberts, Prewitt, LoG (Laplaciano do Gaussiano), que são filtros de alta frequência e têm leves diferenças na forma como realçam as bordas que podem ser úteis ao analisar características do problema de visão atacado. O LoG, por exemplo, ao aplicar o Gaussiano, reduz o ruído e, ao aplicar o Laplaciano, tende a identificar mais a borda real e confundir menos ruídos com bordas. A desvantagem é a suavização da borda, ficando menos preciso.\n",
    "\n",
    "Entre os algoritmos de segmentação de bordas, vale enfatizar o Canny. Esse tenta seguir os parâmetros necessário para um detector de bordas ideal: \n",
    "- Boa detecção: todas as bordas devem ser identificadas;\n",
    "- Boa localização: as bordas identificadas devem estar o mais próximo possível das bordas reais;\n",
    "- Resposta mínima: cada borda deve ser identificada apenas uma vez.\n",
    "Embora possa falhar principalmente no primeiro ponto, o Canny tem a vantagem de retornar linhas claras com um pixel de espessura bem centralizadas nas bordas (considerando que as bordas não têm exatamente um pixel de espessura). Ou seja, sua detecção fica muito clara e forte, com pouco ruído e poucas falhas de continuidade. A ideia principal do algoritmo é “seguir” a borda, desenhando pixel a pixel o resultado, baseado no gradiente da imagem (direção da variação das intensidades)."
   ]
  },
  {
   "cell_type": "markdown",
   "metadata": {},
   "source": [
    "## 2. Leitura complementar"
   ]
  },
  {
   "cell_type": "markdown",
   "metadata": {},
   "source": [
    "Livro E – Seções 5.1.3 e 5.2\n",
    "\n",
    "Livro 1 – Seções 7.1 e 7.2\n",
    "\n",
    "Livro 2 – Cap. 7 e Seção 9.1\n",
    "\n",
    "Livro 3 – Seções 10.2 e 10.3"
   ]
  },
  {
   "cell_type": "markdown",
   "metadata": {},
   "source": [
    "## 3. Exercícios"
   ]
  },
  {
   "cell_type": "markdown",
   "metadata": {},
   "source": [
    "- Para os exercícios a seguir, utilize as funções de Otsu e Canny disponibilizadas pela biblioteca que você estiver trabalhando (Matlab ou OpenCV), na linguagem de sua preferência.\n",
    "\n",
    "a) Utilize o Método de Otsu para limiarizar a placa da imagem do exercício da aula 8 e veja se você obtém uma boa separação dos caracteres em relação ao fundo. Compare com o limiar que você havia utilizado.\n",
    "\n",
    "b) Utilize o Método de Canny para segmentar os caracteres pelas bordas. O resultado ficou melhor? Isto é, é possível identificar bem os caracteres visualmente, com bordas sem buracos e caracteres diferentes sem contato?"
   ]
  },
  {
   "cell_type": "code",
   "execution_count": 1,
   "metadata": {},
   "outputs": [],
   "source": [
    "import cv2\n",
    "import numpy as np"
   ]
  },
  {
   "cell_type": "code",
   "execution_count": 2,
   "metadata": {},
   "outputs": [],
   "source": [
    "img = cv2.imread('HUH9271.png',cv2.IMREAD_GRAYSCALE)\n",
    "\n",
    "ret,thr = cv2.threshold(img, 0, 255, cv2.THRESH_OTSU)\n",
    "cv2.imshow('OTSU', thr)\n",
    "cv2.waitKey(0)  \n",
    "\n",
    "canny = cv2.Canny(img, 50, 120)\n",
    "cv2.imshow('Canny', canny)\n",
    "cv2.waitKey(0)  \n",
    "cv2.destroyAllWindows()"
   ]
  },
  {
   "cell_type": "markdown",
   "metadata": {},
   "source": [
    "Resultado: Canny ficou melhor o resultado, porem não continuou com alguns buracos."
   ]
  },
  {
   "cell_type": "code",
   "execution_count": null,
   "metadata": {},
   "outputs": [],
   "source": []
  }
 ],
 "metadata": {
  "kernelspec": {
   "display_name": "Python 3",
   "language": "python",
   "name": "python3"
  },
  "language_info": {
   "codemirror_mode": {
    "name": "ipython",
    "version": 3
   },
   "file_extension": ".py",
   "mimetype": "text/x-python",
   "name": "python",
   "nbconvert_exporter": "python",
   "pygments_lexer": "ipython3",
   "version": "3.8.6"
  }
 },
 "nbformat": 4,
 "nbformat_minor": 4
}
