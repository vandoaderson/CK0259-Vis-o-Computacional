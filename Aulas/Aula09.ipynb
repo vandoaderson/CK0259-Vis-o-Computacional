{
 "cells": [
  {
   "cell_type": "markdown",
   "metadata": {},
   "source": [
    "# Aula 9 – Processamento morfológico: algoritmos morfológicos"
   ]
  },
  {
   "cell_type": "markdown",
   "metadata": {},
   "source": [
    "## 1. Introdução"
   ]
  },
  {
   "cell_type": "markdown",
   "metadata": {},
   "source": [
    "As operações morfológicas básicas estudadas na aula anterior têm por si só sua maior utilidade no pré-processamento das imagens para “limpar” os objetos, deixá-los mais destacados e nítidos, e facilitar os passos de visão propriamente dita (identificação dos objetos). Entretanto, podemos combinar tais operações para extrair estruturas dos objetos que podem ser mais determinantes na identificação. Como exemplos principais temos os algoritmos de extração de fronteiras, preenchimento de regiões, componentes conectados, afinamento, espessamento e esqueletonização.\n",
    "\n",
    "A extração de fronteiras dá a borda do objeto. É o equivalente morfológico do filtro de gradiente visto em aulas anteriores, também chamado de “gradiente morfológico”. A ideia é bem simples: aplique uma dilatação e subtraia da erosão da imagem. Restarão apenas as bordas.\n",
    "\n",
    "O preenchimento de regiões serve para você pegar a região interna do objeto. Serve também para “tapar” buracos ou “pintar” o interior de objetos. Funciona como a ferramenta “balde de tinta” do paint, ou seja, é equivalente ao algoritmo “flood fill”. A ideia é definir um pixel “1” em uma região e aplicar dilatações nesse pixel iterativamente, sempre subtraindo da imagem original. Quando não houver mais modificação, é porque toda a região na qual aquele pixel inicial estava inserido foi preenchida. \n",
    "\n",
    "A operação de componentes conectadas serve para identificar pixels de um mesmo objeto. Faz-se isso marcando um pixel inicial e então inicia-se um processo de identificação de todos aqueles que estão conectados a ele. A ideia é praticamente a mesma do preenchimento de regiões, mas funciona pela borda, e não pelo interior.\n",
    "\n",
    "O afinamento e o espessamento servem para definir imagens mais finas ou mais grossas de um objeto mantendo sua forma “fundamental”, ou sua “estrutura básica”, ao contrário do que acontece com as operações básicas de erosão ou dilatação que podem destruir o objeto. Essas operações funcionam através do operador morfológico conhecido como “hit or miss” (acerto ou erro), que é capaz de identificar na imagem onde se encontram certas estruturas dadas (veja leitura complementar para entender como a transformada hit or miss funciona).\n",
    "\n",
    "A esqueletonização retorna o “esqueleto” do objeto, ou seja, a estrutura básica que daria suporta a um objeto com determinada forma. É especialmente útil para identificação de objetos pois a estrutura que o suporta geralmente traz informação necessária e suficiente, já que objetos com formas diferentes dificilmente têm o esqueleto com a mesma característica. É obtida por sequências de erosões e pode-se obter a reconstrução do objeto com sequências de dilatações."
   ]
  },
  {
   "cell_type": "markdown",
   "metadata": {},
   "source": [
    "## 2. Leitura complementar"
   ]
  },
  {
   "cell_type": "markdown",
   "metadata": {},
   "source": [
    "Livro E - Seção 9.3\n",
    "\n",
    "Livro 1 - Seção 6.3\n",
    "\n",
    "Livro 2 - Seção 8.4\n",
    "\n",
    "Livro 3 - Seção 9.5"
   ]
  },
  {
   "cell_type": "markdown",
   "metadata": {},
   "source": [
    "## 3. Exercícios"
   ]
  },
  {
   "cell_type": "markdown",
   "metadata": {},
   "source": [
    "a) Todos os algoritmos aqui comentados estão implementados em Octave e OpenCV (Python, C/C++). Crie uma imagem simples, como um círculo preto em um fundo branco, e teste as funções para se familiarizar com elas na sua linguagem preferida\n",
    "\n",
    "b) Utilizando a imagem da placa disponibilizada na Aula 8, aplique o algoritmo de componentes conexas para extrair cada caractere da placa (antes utilize o pré-processamento sugerido como exercício na aula 8 para ter os caracteres bem definidos)."
   ]
  },
  {
   "cell_type": "code",
   "execution_count": 1,
   "metadata": {},
   "outputs": [],
   "source": [
    "import cv2\n",
    "import numpy as np"
   ]
  },
  {
   "cell_type": "code",
   "execution_count": 2,
   "metadata": {},
   "outputs": [],
   "source": [
    "image = np.ones((512,512,3), np.uint8) * 255\n",
    "#image = np.zeros((512,512), np.uint8)\n",
    "#cv2.circle(image, (Zentrum), Radius, (15,75,50), -1) \n",
    "cv2.circle(image, (250, 250), 100, (0,0,0), 250) \n",
    "cv2.imshow(\"circulo\", image)\n",
    "cv2.waitKey(0)\n",
    "cv2.destroyAllWindows()"
   ]
  },
  {
   "cell_type": "code",
   "execution_count": 7,
   "metadata": {},
   "outputs": [],
   "source": [
    "kernel = np.ones((5,5), np.uint8)\n",
    "img = cv2.imread('HUH9271.png',cv2.IMREAD_GRAYSCALE)\n",
    "image = img\n",
    "img2 = (255-image)\n",
    "opening = cv2.morphologyEx(img2, cv2.MORPH_OPEN, kernel)\n",
    "closing = cv2.morphologyEx(opening, cv2.MORPH_CLOSE, kernel)\n",
    "\n",
    "th, im_th = cv2.threshold(image, 220, 255, cv2.THRESH_BINARY_INV);\n",
    "im_floodfill = im_th.copy()\n",
    "h, w = im_th.shape[:2]\n",
    "mask = np.zeros((h+2, w+2), np.uint8)\n",
    "cv2.floodFill(im_floodfill, mask, (0,0), 255);\n",
    "im_floodfill_inv = cv2.bitwise_not(im_floodfill)\n",
    "im_out = im_th | im_floodfill_inv\n",
    "\n",
    "cv2.imshow(\"Thresholded Image\", im_th)\n",
    "\n",
    "cv2.imshow(\"Floodfilled Image\", im_floodfill)\n",
    "\n",
    "cv2.imshow(\"Inverted Floodfilled Image\", im_floodfill_inv)\n",
    "\n",
    "cv2.imshow(\"Foreground\", im_out)\n",
    "cv2.waitKey(0)\n",
    "cv2.destroyAllWindows()"
   ]
  },
  {
   "cell_type": "code",
   "execution_count": null,
   "metadata": {},
   "outputs": [],
   "source": []
  }
 ],
 "metadata": {
  "kernelspec": {
   "display_name": "Python 3",
   "language": "python",
   "name": "python3"
  },
  "language_info": {
   "codemirror_mode": {
    "name": "ipython",
    "version": 3
   },
   "file_extension": ".py",
   "mimetype": "text/x-python",
   "name": "python",
   "nbconvert_exporter": "python",
   "pygments_lexer": "ipython3",
   "version": "3.8.6"
  }
 },
 "nbformat": 4,
 "nbformat_minor": 4
}
