{
 "cells": [
  {
   "cell_type": "markdown",
   "metadata": {},
   "source": [
    "# Aula 12 – Segmentação: Transformada de Hough - Fundamentos\n",
    "## 1. Introdução"
   ]
  },
  {
   "cell_type": "markdown",
   "metadata": {},
   "source": [
    "Uma informação importante a se obter de uma imagem é o conjunto de pontos que pertencem a uma curva, como um segmento de reta ou circunferência. Por exemplo, no caso das retas, ter essa informação permite a identificação de padrões retilíneos na imagem, como uma pista de pouso capturada por uma câmera de um veículo aéreo não tripulado, permitindo a automação do seu pouso.\n",
    "\n",
    "A transformada de Hough é uma imagem que contém informações sobre as curvas na imagem original a partir da qual podemos obter os pontos que compõem tais elementos. Peguemos o exemplo do segmento da reta. Considere a equação da reta na representação polar:\n",
    "\n",
    "ρ = x*cosθ + y*senθ\n",
    "\n",
    "Nesse caso, a reta é definida pela distância a um eixo de origem ρ, um ângulo θ, conforme figura abaixo:"
   ]
  },
  {
   "cell_type": "markdown",
   "metadata": {},
   "source": [
    "![titlle](img/fig12.png)"
   ]
  },
  {
   "cell_type": "markdown",
   "metadata": {},
   "source": [
    "Ou seja, dado um ponto na imagem (coordenadas x e y), podemos definir todas as retas que passam por ele obtendo ρ e θ a partir da equação. Como por cada ponto passam infinitas retas, variando apenas o ângulo entre elas, podemos discretizar o espaço em ângulos (-89° a 90°) de grau em grau, por exemplo, e calcular apenas os ρ. \n",
    "\n",
    "Com isso, podemos “plotar” em um espaço onde o eixo x são os ângulos e o eixo y são os ρ. Essa “plotagem” é a imagem transformada. Cada ponto aparecerá como uma senóide na imagem transformada. A imagem transformada de Hough, portanto, considerando uma discretização de 1 grau por pixel, terá 180 pixels de largura e, de altura, terá no máximo a maior distância possível de um ponto à origem da imagem original, o que corresponde, portanto, ao tamanho da diagonal da imagem original: √(altura² + largura²).\n",
    "\n",
    "Na imagem transformada de Hough, uma vez que cada ponto aparece como uma senoide, sempre que há uma interseção entre as curvas, significa que os parâmetros ( ρ, θ ) no momento da interseção determinam uma reta que passa pelos respectivos pontos.\n",
    "\n",
    "Os pontos de interesse na imagem que normalmente se tem o interesse de saber a colinearidade (no caso de retas, mas pode-se fazer de forma similar para qualquer curva, tendo sua equação especificada), são as bordas dos objetos. Portanto, o maior interesse em calcular a transformada de Hough é em cima de uma imagem binarizada por um algoritmo de detecção de bordas, como o Canny. O algoritmo, então, trabalha apenas sobre os pontos brancos, de forma semelhante aos algoritmos morfológicos."
   ]
  },
  {
   "cell_type": "markdown",
   "metadata": {},
   "source": [
    "## 2. Leitura complementar"
   ]
  },
  {
   "cell_type": "markdown",
   "metadata": {},
   "source": [
    "Livro E – Seção 5.1.5\n",
    "\n",
    "Livro 1 – Seção 7.3\n",
    "\n",
    "Livro 3 – Seção 10.2.7, Pág. 483"
   ]
  },
  {
   "cell_type": "markdown",
   "metadata": {},
   "source": [
    "## 3. Exercícios"
   ]
  },
  {
   "cell_type": "markdown",
   "metadata": {},
   "source": [
    "Implemente a Transformada de Hough para segmentos de reta na linguagem de sua preferência, calcule e a exiba para imagens pretas com:\n",
    "- Apenas 1 pixel branco\n",
    "- Apenas 2 pixels brancos\n",
    "- Apenas 3 pixels brancos não colineares\n",
    "- Apenas 4 pixels brancos distribuídos como vértices de um quadrado"
   ]
  },
  {
   "cell_type": "code",
   "execution_count": 31,
   "metadata": {},
   "outputs": [],
   "source": [
    "import cv2\n",
    "import numpy as np\n",
    "from PIL import Image"
   ]
  },
  {
   "cell_type": "code",
   "execution_count": 32,
   "metadata": {},
   "outputs": [],
   "source": [
    "img = np.zeros([500,500,3],dtype=np.uint8)\n",
    "#img.fill(110) # or img[:] = 255\n",
    "img[50][50] = 255"
   ]
  },
  {
   "cell_type": "code",
   "execution_count": 33,
   "metadata": {},
   "outputs": [
    {
     "ename": "TypeError",
     "evalue": "'NoneType' object is not subscriptable",
     "output_type": "error",
     "traceback": [
      "\u001b[0;31m---------------------------------------------------------------------------\u001b[0m",
      "\u001b[0;31mTypeError\u001b[0m                                 Traceback (most recent call last)",
      "\u001b[0;32m<ipython-input-33-654fec1314ed>\u001b[0m in \u001b[0;36m<module>\u001b[0;34m\u001b[0m\n\u001b[1;32m      3\u001b[0m \u001b[0mmaxLineGap\u001b[0m \u001b[0;34m=\u001b[0m \u001b[0;36m10\u001b[0m\u001b[0;34m\u001b[0m\u001b[0;34m\u001b[0m\u001b[0m\n\u001b[1;32m      4\u001b[0m \u001b[0mlines\u001b[0m \u001b[0;34m=\u001b[0m \u001b[0mcv2\u001b[0m\u001b[0;34m.\u001b[0m\u001b[0mHoughLinesP\u001b[0m\u001b[0;34m(\u001b[0m\u001b[0medges\u001b[0m\u001b[0;34m,\u001b[0m\u001b[0;36m1\u001b[0m\u001b[0;34m,\u001b[0m\u001b[0mnp\u001b[0m\u001b[0;34m.\u001b[0m\u001b[0mpi\u001b[0m\u001b[0;34m/\u001b[0m\u001b[0;36m180\u001b[0m\u001b[0;34m,\u001b[0m\u001b[0;36m100\u001b[0m\u001b[0;34m,\u001b[0m\u001b[0mminLineLength\u001b[0m\u001b[0;34m,\u001b[0m\u001b[0mmaxLineGap\u001b[0m\u001b[0;34m)\u001b[0m\u001b[0;34m\u001b[0m\u001b[0;34m\u001b[0m\u001b[0m\n\u001b[0;32m----> 5\u001b[0;31m \u001b[0;32mfor\u001b[0m \u001b[0mx1\u001b[0m\u001b[0;34m,\u001b[0m\u001b[0my1\u001b[0m\u001b[0;34m,\u001b[0m\u001b[0mx2\u001b[0m\u001b[0;34m,\u001b[0m\u001b[0my2\u001b[0m \u001b[0;32min\u001b[0m \u001b[0mlines\u001b[0m\u001b[0;34m[\u001b[0m\u001b[0;36m0\u001b[0m\u001b[0;34m]\u001b[0m\u001b[0;34m:\u001b[0m\u001b[0;34m\u001b[0m\u001b[0;34m\u001b[0m\u001b[0m\n\u001b[0m\u001b[1;32m      6\u001b[0m     \u001b[0mcv2\u001b[0m\u001b[0;34m.\u001b[0m\u001b[0mline\u001b[0m\u001b[0;34m(\u001b[0m\u001b[0mimg\u001b[0m\u001b[0;34m,\u001b[0m\u001b[0;34m(\u001b[0m\u001b[0mx1\u001b[0m\u001b[0;34m,\u001b[0m\u001b[0my1\u001b[0m\u001b[0;34m)\u001b[0m\u001b[0;34m,\u001b[0m\u001b[0;34m(\u001b[0m\u001b[0mx2\u001b[0m\u001b[0;34m,\u001b[0m\u001b[0my2\u001b[0m\u001b[0;34m)\u001b[0m\u001b[0;34m,\u001b[0m\u001b[0;34m(\u001b[0m\u001b[0;36m0\u001b[0m\u001b[0;34m,\u001b[0m\u001b[0;36m255\u001b[0m\u001b[0;34m,\u001b[0m\u001b[0;36m0\u001b[0m\u001b[0;34m)\u001b[0m\u001b[0;34m,\u001b[0m\u001b[0;36m2\u001b[0m\u001b[0;34m)\u001b[0m\u001b[0;34m\u001b[0m\u001b[0;34m\u001b[0m\u001b[0m\n\u001b[1;32m      7\u001b[0m \u001b[0;34m\u001b[0m\u001b[0m\n",
      "\u001b[0;31mTypeError\u001b[0m: 'NoneType' object is not subscriptable"
     ]
    }
   ],
   "source": [
    "edges = cv2.Canny(img,50,150,apertureSize = 3)\n",
    "minLineLength = 100\n",
    "maxLineGap = 10\n",
    "lines = cv2.HoughLinesP(edges,1,np.pi/180,100,minLineLength,maxLineGap)\n",
    "for x1,y1,x2,y2 in lines[0]:\n",
    "    cv2.line(img,(x1,y1),(x2,y2),(0,255,0),2)\n",
    "\n",
    "cv2.imwrite('houghlines5.jpg',img)\n",
    "\n",
    "\n",
    "cv2.imshow('Hough Lines', img)\n",
    "cv2.waitKey(0)\n",
    "cv2.destroyAllWindows()"
   ]
  },
  {
   "cell_type": "code",
   "execution_count": null,
   "metadata": {},
   "outputs": [],
   "source": []
  }
 ],
 "metadata": {
  "kernelspec": {
   "display_name": "Python 3",
   "language": "python",
   "name": "python3"
  },
  "language_info": {
   "codemirror_mode": {
    "name": "ipython",
    "version": 3
   },
   "file_extension": ".py",
   "mimetype": "text/x-python",
   "name": "python",
   "nbconvert_exporter": "python",
   "pygments_lexer": "ipython3",
   "version": "3.8.6"
  }
 },
 "nbformat": 4,
 "nbformat_minor": 4
}
