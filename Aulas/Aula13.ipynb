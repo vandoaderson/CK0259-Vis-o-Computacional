{
 "cells": [
  {
   "cell_type": "markdown",
   "metadata": {},
   "source": [
    "# Aula 13 – Segmentação: Transformada de Hough - Aplicação\n",
    "\n",
    "## 1. Introdução\n",
    "\n",
    "Dada uma transformada de Hough, precisamos então interpretá-la para automaticamente obter o conjunto de pontos desejado. Para fins de exemplificação, consideremos, então, o caso do segmento de reta. Podemos, para cada ponto na transformada, sempre que uma senoide passar por um ponto, ao invés de simplesmente marcá-los como “1”, ou seja, como branco, podemos incrementar o seu valor. Assim, a transformada de Hough deixa de ser uma imagem binária para ser uma imagem em escala de cinza e, quanto mais forte for a intensidade de um ponto, significa que mais interseções ele acumula.\n",
    "\n",
    "Se desejamos, então, detectar pontos pertencentes a uma reta com ângulo de 90°, podemos pegar o parâmetro ρ com maior número de interseções dado θ = 90. Isso definirá uma reta e, portanto, infinitas coordenadas x e y na imagem original. Como a imagem original está binarizada, peguemos agora os pontos brancos cujas coordenadas batem com os parâmetros ρ e θ na equação da reta. Esses formarão o conjunto de pontos de interesse. Ou quase…\n",
    "\n",
    "O problema que falta resolver é que esses pontos podem pertencer, por exemplo, a dois segmentos separados de uma mesma reta. E como estamos procurando segmentos, e não reta, queremos dois e não apenas um conjunto de pontos. Um algoritmo possível para quebrar o conjunto seria o seguinte: ordenamos os pontos de acordo com o eixo de maior variação e percorremos os pontos (se maior_x – menor x > maior_y – menor_y, eixo de maior variação é x, senão é y). Sempre que a distância entre um ponto e o seguinte for maior do que um determinado limiar dado, consideramos que ali há uma quebra de segmentos e, portanto, podemos criar um outro conjunto. No final das contas, como o que interessa mesmo é o segmento, basta que guardemos o primeiro e o último ponto de cada conjunto.\n",
    "\n",
    "## 2. Leitura complementar\n",
    "\n",
    "Livro E – Seção 5.1.5\n",
    "\n",
    "Livro 1 – Seção 7.3\n",
    "\n",
    "Livro 3 – Seção 10.2.7, Pág. 483\n",
    "\n",
    "## 3. Exercícios\n",
    "\n",
    "A imagem disponibilizada com esta aula traz a foto de uma pista de aeroporto tirada de um avião. Se queremos fazer um algoritmo para pouso automático, uma das coisas necessárias é garantir o alinhamento do avião com a pista durante sua descida. Para simplificar, considere que ele está alinhado se a pista aparece verticalmente na imagem, ou seja, suas laterais formam segmentos de reta com 90° de inclinação. Utilize transformada de Hough para detectar a pista alinhada."
   ]
  },
  {
   "cell_type": "code",
   "execution_count": 4,
   "metadata": {},
   "outputs": [],
   "source": [
    "import cv2\n",
    "import numpy as np\n",
    "\n",
    "image = cv2.imread('aeroporto.png')\n",
    "\n",
    "# Grayscale and Canny Edges extracted\n",
    "edges = cv2.Canny(image, 100, 170, apertureSize = 3)\n",
    "#cv2.imshow(\"Canny\",edges)\n",
    "\n",
    "# Run HoughLines using a rho accuracy of 1 pixel\n",
    "# theta accuracy of np.pi / 180 which is 1 degree\n",
    "# Our line threshold is set to 240 (number of points on line)\n",
    "lines = cv2.HoughLines(edges, 1, np.pi / 180, 225)\n",
    "\n",
    "# We iterate through each line and convert it to the format\n",
    "# required by cv.lines (i.e. requiring end points)\n",
    "for rho, theta in lines[0]:\n",
    "    a = np.cos(theta)\n",
    "    b = np.sin(theta)\n",
    "    x0 = a * rho\n",
    "    y0 = b * rho\n",
    "    x1 = int(x0 + 1000 * (-b))\n",
    "    y1 = int(y0 + 1000 * (a))\n",
    "    x2 = int(x0 - 1000 * (-b))\n",
    "    y2 = int(y0 - 1000 * (a))\n",
    "    cv2.line(image, (x1, y1), (x2, y2), (255, 0, 0), 2)\n",
    "\n",
    "cv2.imshow('Hough Lines', image)\n",
    "cv2.waitKey(0)\n",
    "cv2.destroyAllWindows()"
   ]
  },
  {
   "cell_type": "markdown",
   "metadata": {},
   "source": []
  },
  {
   "cell_type": "markdown",
   "metadata": {},
   "source": []
  },
  {
   "cell_type": "code",
   "execution_count": null,
   "metadata": {},
   "outputs": [],
   "source": []
  }
 ],
 "metadata": {
  "kernelspec": {
   "display_name": "Python 3",
   "language": "python",
   "name": "python3"
  },
  "language_info": {
   "codemirror_mode": {
    "name": "ipython",
    "version": 3
   },
   "file_extension": ".py",
   "mimetype": "text/x-python",
   "name": "python",
   "nbconvert_exporter": "python",
   "pygments_lexer": "ipython3",
   "version": "3.8.6"
  }
 },
 "nbformat": 4,
 "nbformat_minor": 4
}
