{
 "cells": [
  {
   "cell_type": "markdown",
   "metadata": {},
   "source": [
    "# Aula 14 – Segmentação: Gradientes (Adendo)\n",
    "\n",
    "## 1. Introdução\n",
    "\n",
    "Como vimos nas aulas sobre Transformada de Hough, o algoritmo de segmentação derivado de tal técnica pode ser muito custoso, pois podemos ter muitos pixels para analisar e decidir se são ou não parte do conjunto de interesse. Entretanto, podemos utilizar uma técnica para encontrar pixels “candidatos” e evitar o cálculo com todos da imagem: o cálculo de gradientes.\n",
    "\n",
    "Matematicamente, o gradiente é um vetor que indica a direção na qual os valores em um espaço estão incrementando. Se considerarmos uma função bidimensional f, ele é definido por:\n",
    "\n",
    "## ∇ f = [ ∂f/∂x, ∂f/∂y ]\n",
    "\n",
    "Ou seja, o gradiente da função em um ponto é determinado pelo vetor formado pelas derivadas parciais em cada um dos eixos. \n",
    "\n",
    "Como a imagem é uma função bidimensional, o cálculo do gradiente indica justamente a direção da variação das intensidades dos pixels. Ou seja, se calcularmos o gradiente em um pixel de uma curva, ele vai apontar justamente para a direção do próximo pixel da curva. Assim, é possível acompanhá-la e podemos reduzir a quantidade de pixels analisados no algoritmo de segmentação apresentado na aula 13 (você tem como saber qual o “próximo” pixel do segmento de reta, por exemplo). Essa mesma ideia é utilizada também no algoritmo de Canny.\n",
    "\n",
    "Como vimos anteriormente, podemos calcular as derivadas parciais através dos filtros de Sobel. Cada um deles implica no cálculo da derivada parcial em uma direção. Assim, dada uma imagem, o gradiente dela resultará em duas imagens (uma obtida da filtragem com Sobel horizontal e a outra com Sobel vertical). \n",
    "\n",
    "Podemos ainda calcular os ângulos das variações de intensidade em cada pixel. Seja Sx o valor da derivada parcial em x (a aplicação do Sobel horizontal) e Sy o valor da derivada parcial em y (a aplicação de Sobel vertical). O ângulo A do vetor [Sx, Sy] com o eixo horizontal é dado por (como Sx e Sy são perpendiculares, basta imaginarmos um triângulo retângulo onde esses são os valores dos catetos):\n",
    "\n",
    "## A = arctan( Sy/Sx ).\n",
    "\n",
    "## 2. Leitura Complementar\n",
    "\n",
    "Livro E – Seção 5.1.3.1\n",
    "\n",
    "Livro 3 – Seção 3.6.4\n",
    "\n",
    "## 3. Exercícios\n",
    "\n",
    "- Dada a imagem de uma impressão digital disponibilizada para download no SIGAA, calcule os ângulos para os pixels através do gradiente e crie uma imagem de vetores correspondente (chamada de mapa de orientação). Esse é um dos passos nas principais técnicas de identificação de impressões digitais. Tente obter resultado semelhante ao exibido na imagem a seguir:\n",
    "\n",
    "\n",
    "\n",
    "\n",
    "\n",
    "\n",
    "\n",
    "\n",
    "\n",
    "\n",
    "\n",
    "\n",
    "\n",
    "\n",
    "(Imagem original, mapa de orientação e sobreposição das duas)\n",
    "Fonte da imagem: Ji, Luping; Yi, Zhang. Fingerprint orientation field estimation using ridge projection"
   ]
  },
  {
   "cell_type": "markdown",
   "metadata": {},
   "source": [
    "![titlle](img/fig14.png)"
   ]
  },
  {
   "cell_type": "code",
   "execution_count": 5,
   "metadata": {},
   "outputs": [],
   "source": [
    "import cv2\n",
    "import numpy as np\n",
    "\n",
    "image = cv2.imread('fingerprint.png',0)\n",
    "\n",
    "height, width = image.shape\n",
    "\n",
    "# Extract Sobel Edges\n",
    "sobel_x = cv2.Sobel(image, cv2.CV_64F, 0, 1, ksize=5)\n",
    "sobel_y = cv2.Sobel(image, cv2.CV_64F, 1, 0, ksize=5)\n",
    "\n",
    "cv2.imshow('Original', image)\n",
    "cv2.waitKey(0)\n",
    "cv2.imshow('Sobel X', sobel_x)\n",
    "cv2.waitKey(0)\n",
    "cv2.imshow('Sobel Y', sobel_y)\n",
    "cv2.waitKey(0)\n",
    "\n",
    "sobel_OR = cv2.bitwise_or(sobel_x, sobel_y)\n",
    "cv2.imshow('sobel_OR', sobel_OR)\n",
    "cv2.waitKey(0)\n",
    "\n",
    "laplacian = cv2.Laplacian(image, cv2.CV_64F)\n",
    "cv2.imshow('Laplacian', laplacian)\n",
    "cv2.waitKey(0)\n",
    "\n",
    "\n",
    "cv2.destroyAllWindows()"
   ]
  },
  {
   "cell_type": "code",
   "execution_count": null,
   "metadata": {},
   "outputs": [],
   "source": []
  }
 ],
 "metadata": {
  "kernelspec": {
   "display_name": "Python 3",
   "language": "python",
   "name": "python3"
  },
  "language_info": {
   "codemirror_mode": {
    "name": "ipython",
    "version": 3
   },
   "file_extension": ".py",
   "mimetype": "text/x-python",
   "name": "python",
   "nbconvert_exporter": "python",
   "pygments_lexer": "ipython3",
   "version": "3.8.6"
  }
 },
 "nbformat": 4,
 "nbformat_minor": 4
}
