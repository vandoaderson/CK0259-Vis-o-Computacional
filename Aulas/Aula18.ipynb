{
 "cells": [
  {
   "cell_type": "markdown",
   "metadata": {},
   "source": [
    "# Aula 18 – Análise de Componentes Principais\n",
    "\n",
    "\n",
    "## 1. Introdução\n",
    "\n",
    "Uma imagem pode ser entendida simplesmente como um conjunto de dados espacialmente distribuídos (as intensidades dos pixels são os dados). Quando fazemos visão computacional, queremos analisar esses dados e identificar o que eles significam. A maior dificuldade disso está no fato de que são muitos, tornando inviável identificar padrões diretamente nessa distribuição. Todas as técnicas discutidas nas aulas anteriores tinham um objetivo principal: limpar a imagem para que pudessem ser tratados apenas os dados (pixels) que realmente interessam em um determinado processo de identificação. \n",
    "\n",
    "Entretanto, mesmo após todo pré-processamento, ainda assim a quantidade de dados a ser analisada pode ser muito grande, ou de “alta dimensionalidade”. Pode ser desejável, então, diminuir ainda mais a quantidade de dados, ou seja, fazer uma redução de dimensionalidade, sem, entretanto, descaracterizá-los, ou seja, que o conjunto menor de dados reduzido ainda traga a informação necessária para identificar o padrão da imagem.\n",
    "\n",
    "A técnica de Análise de Componentes Principais (PCA – Principal Component Analysis) é uma técnica estatística que realiza a tarefa desejada de redução de dimensionalidade. Matematicamente, é uma transformação linear que transforma os dados para um novo sistema de coordenadas, onde a projeção dos dados de acordo com a maior variância se dá na primeira coordenada (primeira componente), a segunda maior variância na segunda coordenada (segunda componente) e assim por diante. \n",
    "\n",
    "Observe que um conjunto de dados com alta variância é mais importante para a caracterização de uma imagem do que baixa variância (ou parecidos), que trará pouca informação sobre o padrão contido nos dados. Assim, podemos analisar a imagem considerando os pixels como dados no novo espaço gerado pelo PCA. Como os eixos estão ordenados por variância, podemos escolher as “primeiras” coordenadas do PCA apenas para analisar (só a primeira, as duas primeiras, as três primeiras…), pois elas caracterizarão melhor a imagem (a quantidade de componentes a utilizar  depende da aplicação e pode ser um parâmetro dado).\n",
    "\n",
    "Cada eixo é definido por um vetor. A redução de dimensionalidade acontece porque você substitui todos os dados apenas pelas informações das “direções” de maior variância deles. Ou seja, os vetores que definem os eixos do PCA são os seus dados agora. Tais vetores são especificados no que chamamos “espaço de características” da imagem.\n",
    "\n",
    "A técnica de PCA apenas diminui a dimensionalidade dos dados, mas isso por si só não dá a identificação de uma imagem. Entretanto, com um número menor de dados a analisar, podemos aplicar agora algoritmos para identificação que sejam mais eficientes. A partir da próxima aula finalmente passaremos, de fato, a aprender como fazer o computador “ver” uma imagem, ou seja, identificá-la. Ainda, embora PCA em si não sirva para identificar objetos em uma imagem, é possível utilizá-lo por si só para identificar orientações de objetos, o que é uma aplicação também importante em visão computacional.\n",
    "\n",
    "## 2. Leitura Complementar\n",
    "\n",
    "Livro 1 – Seções 8.3 e 8.4\n",
    "\n",
    "Livro 3 – Seção 11.4\n",
    "\n",
    "## 3. Exercícios\n",
    "\n",
    "Realize o tutorial de PCA em OpenCV: https://docs.opencv.org/3.4/d1/dee/tutorial_introduction_to_pca.html"
   ]
  },
  {
   "cell_type": "code",
   "execution_count": 5,
   "metadata": {},
   "outputs": [],
   "source": [
    "from __future__ import print_function\n",
    "from __future__ import division\n",
    "import cv2 as cv\n",
    "import numpy as np\n",
    "import argparse\n",
    "from math import atan2, cos, sin, sqrt, pi"
   ]
  },
  {
   "cell_type": "code",
   "execution_count": 6,
   "metadata": {},
   "outputs": [],
   "source": [
    "def drawAxis(img, p_, q_, colour, scale):\n",
    "    p = list(p_)\n",
    "    q = list(q_)\n",
    "    ## [visualization1]\n",
    "    angle = atan2(p[1] - q[1], p[0] - q[0]) # angle in radians\n",
    "    hypotenuse = sqrt((p[1] - q[1]) * (p[1] - q[1]) + (p[0] - q[0]) * (p[0] - q[0]))\n",
    "\n",
    "    # Here we lengthen the arrow by a factor of scale\n",
    "    q[0] = p[0] - scale * hypotenuse * cos(angle)\n",
    "    q[1] = p[1] - scale * hypotenuse * sin(angle)\n",
    "    cv.line(img, (int(p[0]), int(p[1])), (int(q[0]), int(q[1])), colour, 1, cv.LINE_AA)\n",
    "\n",
    "    # create the arrow hooks\n",
    "    p[0] = q[0] + 9 * cos(angle + pi / 4)\n",
    "    p[1] = q[1] + 9 * sin(angle + pi / 4)\n",
    "    cv.line(img, (int(p[0]), int(p[1])), (int(q[0]), int(q[1])), colour, 1, cv.LINE_AA)\n",
    "\n",
    "    p[0] = q[0] + 9 * cos(angle - pi / 4)\n",
    "    p[1] = q[1] + 9 * sin(angle - pi / 4)\n",
    "    cv.line(img, (int(p[0]), int(p[1])), (int(q[0]), int(q[1])), colour, 1, cv.LINE_AA)\n",
    "    ## [visualization1]\n",
    "\n",
    "def getOrientation(pts, img):\n",
    "    ## [pca]\n",
    "    # Construct a buffer used by the pca analysis\n",
    "    sz = len(pts)\n",
    "    data_pts = np.empty((sz, 2), dtype=np.float64)\n",
    "    for i in range(data_pts.shape[0]):\n",
    "        data_pts[i,0] = pts[i,0,0]\n",
    "        data_pts[i,1] = pts[i,0,1]\n",
    "\n",
    "    # Perform PCA analysis\n",
    "    mean = np.empty((0))\n",
    "    mean, eigenvectors, eigenvalues = cv.PCACompute2(data_pts, mean)\n",
    "\n",
    "    # Store the center of the object\n",
    "    cntr = (int(mean[0,0]), int(mean[0,1]))\n",
    "    ## [pca]\n",
    "\n",
    "    ## [visualization]\n",
    "    # Draw the principal components\n",
    "    cv.circle(img, cntr, 3, (255, 0, 255), 2)\n",
    "    p1 = (cntr[0] + 0.02 * eigenvectors[0,0] * eigenvalues[0,0], cntr[1] + 0.02 * eigenvectors[0,1] * eigenvalues[0,0])\n",
    "    p2 = (cntr[0] - 0.02 * eigenvectors[1,0] * eigenvalues[1,0], cntr[1] - 0.02 * eigenvectors[1,1] * eigenvalues[1,0])\n",
    "    drawAxis(img, cntr, p1, (0, 255, 0), 1)\n",
    "    drawAxis(img, cntr, p2, (255, 255, 0), 5)\n",
    "\n",
    "    angle = atan2(eigenvectors[0,1], eigenvectors[0,0]) # orientation in radians\n",
    "    ## [visualization]\n",
    "\n",
    "    return angle"
   ]
  },
  {
   "cell_type": "code",
   "execution_count": 7,
   "metadata": {},
   "outputs": [
    {
     "name": "stderr",
     "output_type": "stream",
     "text": [
      "usage: ipykernel_launcher.py [-h] [--input INPUT]\n",
      "ipykernel_launcher.py: error: unrecognized arguments: -f /home/vando/.local/share/jupyter/runtime/kernel-eec9d0fa-84ae-45a5-bcee-5bdac287b481.json\n"
     ]
    },
    {
     "ename": "SystemExit",
     "evalue": "2",
     "output_type": "error",
     "traceback": [
      "An exception has occurred, use %tb to see the full traceback.\n",
      "\u001b[0;31mSystemExit\u001b[0m\u001b[0;31m:\u001b[0m 2\n"
     ]
    }
   ],
   "source": [
    "## [pre-process]\n",
    "# Load image\n",
    "parser = argparse.ArgumentParser(description='Code for Introduction to Principal Component Analysis (PCA) tutorial.\\\n",
    "                                              This program demonstrates how to use OpenCV PCA to extract the orientation of an object.')\n",
    "parser.add_argument('--input', help='Path to input image.', default='moedasw.jpg')\n",
    "args = parser.parse_args()\n",
    "\n",
    "src = cv.imread(cv.samples.findFile(args.input))\n",
    "# Check if image is loaded successfully\n",
    "if src is None:\n",
    "    print('Could not open or find the image: ', args.input)\n",
    "    exit(0)\n",
    "\n",
    "cv.imshow('src', src)\n",
    "\n",
    "# Convert image to grayscale\n",
    "gray = cv.cvtColor(src, cv.COLOR_BGR2GRAY)\n",
    "\n",
    "# Convert image to binary\n",
    "_, bw = cv.threshold(gray, 50, 255, cv.THRESH_BINARY | cv.THRESH_OTSU)\n",
    "## [pre-process]\n",
    "\n",
    "## [contours]\n",
    "# Find all the contours in the thresholded image\n",
    "_, contours, _ = cv.findContours(bw, cv.RETR_LIST, cv.CHAIN_APPROX_NONE)\n",
    "\n",
    "for i, c in enumerate(contours):\n",
    "    # Calculate the area of each contour\n",
    "    area = cv.contourArea(c)\n",
    "    # Ignore contours that are too small or too large\n",
    "    if area < 1e2 or 1e5 < area:\n",
    "        continue\n",
    "\n",
    "    # Draw each contour only for visualisation purposes\n",
    "    cv.drawContours(src, contours, i, (0, 0, 255), 2)\n",
    "    # Find the orientation of each shape\n",
    "    getOrientation(c, src)\n",
    "## [contours]\n",
    "\n",
    "cv.imshow('output', src)\n",
    "cv.waitKey()"
   ]
  },
  {
   "cell_type": "code",
   "execution_count": null,
   "metadata": {},
   "outputs": [],
   "source": []
  }
 ],
 "metadata": {
  "kernelspec": {
   "display_name": "Python 3",
   "language": "python",
   "name": "python3"
  },
  "language_info": {
   "codemirror_mode": {
    "name": "ipython",
    "version": 3
   },
   "file_extension": ".py",
   "mimetype": "text/x-python",
   "name": "python",
   "nbconvert_exporter": "python",
   "pygments_lexer": "ipython3",
   "version": "3.8.6"
  }
 },
 "nbformat": 4,
 "nbformat_minor": 4
}
