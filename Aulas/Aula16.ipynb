{
 "cells": [
  {
   "cell_type": "markdown",
   "metadata": {},
   "source": [
    "# Aula 16 – Extração de Características: Forma, Dimensões e aspecto\n",
    "\n",
    "## 1. Introdução\n",
    "\n",
    "Para identificarmos um objeto, podemos checar as características de seu desenho na imagem e checar se elas correspondem ao que é esperado para ele. Por exemplo, para identificar valores de moedas em uma foto, podemos checar as áreas dos círculos encontrados e compará-los para definir a quais moedas correspondem. Ou seja, a extração de características dos objetos segmentados em uma imagem pode ser um passo essencial no processo de identificação.\n",
    "\n",
    "Aos valores que descrevem características dos objetos, damos o nome de descritores. Uma característica importante numa imagem, por exemplo, é a cor. Podemos, por exemplo, querer saber se uma fruta por uma foto está ou não madura. Se essa condição afeta na cor (por exemplo, uma banana verde ou uma banana amarela), podemos analisar a cor predominante na foto da fruta para indicar o seu estado. Para isso, basta que analisemos, no modelo HSV, qual a Matiz predominante na imagem (podemos usar bibliotecas estatísticas para ajudar na análise).\n",
    "\n",
    "Outros descritores importantes são os dimensionais. Segmentando uma imagem com alguma técnica de segmentação de bordas obtemos os pixels pertencem à borda de um objeto, e podemos utilizar suas coordenadas para calcular perímetro, diâmetro e área do objeto.\n",
    " \n",
    "Importante também é ter alguma informação sobre o formato do objeto. Uma técnica clássica para descrever tal informação é chamada de “Código da Cadeia”. A ideia dela é ter uma sequência de números única para cada formato de objeto. Ou seja, dessa maneira, objetos de forma semelhante têm código semelhante e podem ser facilmente comparados. O “Código da cadeia” é obtido considerando-se posições relativas entre pixels. Dadas 8 posições possíveis (0 = direita, 1 = diagonal direita superior, 2 = cima, 3 = diagonal esquerda superior, 4 = esquerda, 5 = diagonal esqueda inferior, 6 = baixo e 7 = diagonal direita inferior) numeradas, percorra, em ordem, os pixels de borda de um objeto, numerando-os de acordo com a posição relativa ao anterior. A sequência de números obtida é o código da cadeia.\n",
    "\n",
    "Por fim, importante também citar os descritores de Fourier. A ideia é calcular a transformada de Fourier de uma imagem (com o objeto de interesse já segmentado) e utilizá-la como descritor, já que teremos as frequências e respectivas amplitudes das funções que compõem a “função do desenho” do objeto. A ideia é a mesma para o código da cadeia: espera-se que objetos semelhantes em formato tenham descritores de fourier semelhantes.\n",
    "\n",
    "Ou seja, a principal ideia das técnicas de extração de características é substituir os pixels dos objetos por números que sejam capazes de descrever suas características, tornando assim mais fácil o processo de identificação.\n",
    "\n",
    "## 2. Leitura Complementar\n",
    "\n",
    "Livro E – Capítulo 7 - Seções 7.1.1; 7.2.1 a 7.2.3 e 7.2.5; 7.3.1\n",
    "\n",
    "Livro 1 – Seção 8.1\n",
    "\n",
    "Livro 2 – Capítulo 10\n",
    "\n",
    "Livro 3 – Seção 11.2\n",
    "\n",
    "## 3. Exercícios\n",
    "\n",
    "Utilizando as funções de Canny, componentes conexas e cálculo de área de contorno do OpenCV, escreva um programa para identificar os valores das moedas na imagem disponibilizada no SIGAA. O programa deve retornar a imagem com cada moeda marcada e o seu valor escrito logo abaixo."
   ]
  },
  {
   "cell_type": "code",
   "execution_count": null,
   "metadata": {},
   "outputs": [],
   "source": []
  }
 ],
 "metadata": {
  "kernelspec": {
   "display_name": "Python 3",
   "language": "python",
   "name": "python3"
  },
  "language_info": {
   "codemirror_mode": {
    "name": "ipython",
    "version": 3
   },
   "file_extension": ".py",
   "mimetype": "text/x-python",
   "name": "python",
   "nbconvert_exporter": "python",
   "pygments_lexer": "ipython3",
   "version": "3.8.6"
  }
 },
 "nbformat": 4,
 "nbformat_minor": 4
}
