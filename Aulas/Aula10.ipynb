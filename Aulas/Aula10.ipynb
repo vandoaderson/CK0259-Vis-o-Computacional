{
 "cells": [
  {
   "cell_type": "markdown",
   "metadata": {},
   "source": [
    "# Aula 10 – Operações Morfológicas em Escala de Cinza"
   ]
  },
  {
   "cell_type": "markdown",
   "metadata": {},
   "source": [
    "## 1. Introdução"
   ]
  },
  {
   "cell_type": "markdown",
   "metadata": {},
   "source": [
    "As operações morfológicas como estudadas até então são definidas necessariamente em imagens binárias, pois parte da interpretação de imagens como conjunto de pixels, onde são considerados “elementos” do conjunto os pixels brancos. Entretanto, às vezes é necessário pré processar a imagem ainda em escala de cinza, antes de fazer binarização, para identificar bordas ou retirar ruídos considerando características da intensidade, ou seja, se o ruído, ou a borda que se quer suavizar ou enfatizar é algo claro ou escuro, ou se tem alguma característica de forma específica. Nesse sentido, a ideia de “buracos” como sendo regiões mais escuras ou de formas, utilizadas no processamento morfológico, podem ser úteis para a filtragem da imagem.\n",
    "\n",
    "Existe, para tanto, a extensão dos algoritmos morfológicos para escala de cinza, como a suavização e o gradiente morfológicos. As ideias são praticamente as mesmas dos algoritmos para binário, mas com mudança na definição dos operadores básicos de dilatação e erosão, que passam a ser:\n",
    "\n",
    "- Dilatação: o maior valor na região do filtro (elemento estruturante) da subtração do filtro pela imagem;\n",
    "- Erosão: o menor valor na região do filtro (elemento estruturante) da soma do filtro pela imagem."
   ]
  },
  {
   "cell_type": "markdown",
   "metadata": {},
   "source": [
    "## 2. Leitura complementar"
   ]
  },
  {
   "cell_type": "markdown",
   "metadata": {},
   "source": [
    "Livro E – Seção 9.4\n",
    "\n",
    "Livro 3 – Seção 9.6"
   ]
  },
  {
   "cell_type": "markdown",
   "metadata": {},
   "source": [
    "## 3. Exercícios"
   ]
  },
  {
   "cell_type": "markdown",
   "metadata": {},
   "source": [
    "a) Utilizando o GIMP, aplique as operações morfológicas básicas em uma imagem em escala de cinza para verificar o comportamento da dilatação e da erosão (menu Filtros → Genéricos). Tente fazer um gradiente morfológico aplicando a dilatação, a erosão e a subtração (faça subtração de camadas).\n",
    "\n",
    "b) Utilizando a imagem disponibilizada no SIGAA, faça o processo chamado de “segmentação de textura”. A imagem traz um conjunto de círculos de dois tamanhos diferentes claramente divididos em duas regiões. Utilize a operação de fechamento até remover os círculos menores. Depois, utilize a função de abertura até remover os círculos maiores. Você terá uma imagem com duas regiões bem delimitadas, a região onde estavam os círculos pequenos e a região onde estavam os círculos grandes. Utilize essa imagem para traçar a divisão na imagem original (utilize gradiente morfológico na imagem das regiões para gerar a linha de divisão)."
   ]
  },
  {
   "cell_type": "markdown",
   "metadata": {},
   "source": [
    "![titlle](img/fig10.png)"
   ]
  },
  {
   "cell_type": "code",
   "execution_count": 34,
   "metadata": {},
   "outputs": [],
   "source": [
    "import cv2\n",
    "import numpy as np"
   ]
  },
  {
   "cell_type": "code",
   "execution_count": 35,
   "metadata": {},
   "outputs": [],
   "source": [
    "image = cv2.imread('textura.png', 0)\n",
    "\n",
    "kernel = np.ones((5,5), np.uint8)\n",
    "dilation = cv2.dilate(image, kernel, iterations = 5)\n",
    "\n",
    "erosion = cv2.erode(dilation, kernel, iterations = 6)\n",
    "\n",
    "canny = cv2.Canny(erosion, 50, 120)\n",
    "cv2.imshow('Canny', canny)\n",
    "cv2.waitKey(0)\n",
    "cv2.destroyAllWindows()"
   ]
  },
  {
   "cell_type": "code",
   "execution_count": 32,
   "metadata": {},
   "outputs": [],
   "source": [
    "\n"
   ]
  },
  {
   "cell_type": "code",
   "execution_count": 33,
   "metadata": {},
   "outputs": [],
   "source": []
  },
  {
   "cell_type": "code",
   "execution_count": null,
   "metadata": {},
   "outputs": [],
   "source": []
  }
 ],
 "metadata": {
  "kernelspec": {
   "display_name": "Python 3",
   "language": "python",
   "name": "python3"
  },
  "language_info": {
   "codemirror_mode": {
    "name": "ipython",
    "version": 3
   },
   "file_extension": ".py",
   "mimetype": "text/x-python",
   "name": "python",
   "nbconvert_exporter": "python",
   "pygments_lexer": "ipython3",
   "version": "3.8.6"
  }
 },
 "nbformat": 4,
 "nbformat_minor": 4
}
