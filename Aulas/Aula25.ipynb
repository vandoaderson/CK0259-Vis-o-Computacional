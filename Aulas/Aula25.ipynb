{
 "cells": [
  {
   "cell_type": "markdown",
   "metadata": {},
   "source": [
    "# Aula 25 – Rastreamento\n",
    "\n",
    "## 1. Introdução\n",
    "\n",
    "Até agora estudamos apenas imagens paradas, mas também podemos tratar a visão computacional em vídeos. Uma das tarefas que podemos realizar é o rastreamento, que permite seguir um objeto em vídeo. Para realizar essa tarefa, fazemos o cálculo do Fluxo Óptico, isto é, as variações nas direções de intensidades dos pixels na imagem com o passar do tempo.\n",
    "\n",
    "Mais especificamente, um algoritmo simples e interessante para fluxo óptico e, consequentemente, rastreamento, é chamado de Lucas-Kanade. Nele, calcula-se o fluxo de uma janela de pixels predeterminada (e não da imagem toda). Dados, então, esses pontos para serem “seguidos”, o algoritmo calcula as derivadas parciais, ou seja, variação da intensidade dos pixels, nos eixos x, y e no tempo. Com isso, obtém-se um sistema de equações que dará o vetor de deslocamento do centro da janela. Observe que ele não acompanha os pixels da janela, mas sim a variação da intensidade na vizinhança, e tenta descobrir qual deveria ser a nova posição do ponto com tal informação. Mais detalhes sobre a matemática e como implementá-lo, veja a leitura complementar.\n",
    "\n",
    "Observe que para realizar o rastreamento com Lucas-Kanade, primeiro é necessário, na imagem inicial, identificar o objeto que você gostaria de rastrear. Isso pode ser feito de forma automática, como veremos em aulas futuras, ou pode ser manualmente. Essa identificação marcará a janela de pixels que precisa ser passada para o algoritmo.\n",
    "\n",
    "Outro ponto importante é que o Lucas-Kanade assume que em um intervalo de tempo pequeno, existe relativamente pouca movimentação dos pixels e, portanto, é possível acompanhar a direção da variação de intensidade na imagem. Tal presunção, entretanto, não é verdade para objetos muito rápidos e o Lucas-Kanade tende a perdê-los (“rápido”, entretanto, é relativo à taxa de quadros do vídeo, que se for muito baixa pode atrapalhar inclusive o rastreamento de objetos lentos). Além disso, como o algoritmo não “procura” pontos em quadros subsequentes, apenas estima a nova posição pela variação da intensidade dos pixels de uma janela analisada, ele acaba sendo bastante sensível a ruído, calculando novas posições que não são de fato as posições do objeto de interesse no novo quadro.\n",
    "\n",
    "## 2. Leitura Complementar\n",
    "\n",
    "http://www.inf.fu-berlin.de/inst/ag-ki/rojas_home/documents/tutorials/Lucas-Kanade2.pdf\n",
    "\n",
    "## 3. Exercícios\n",
    "\n",
    "A OpenCV possui o algoritmo de Lucas-Kanade implementado. Escreva um programa simples que abra um vídeo, permita ao usuário marcar alguns pontos com o mouse e utilize o Lucas-Kanade para rastrear esses pontos."
   ]
  },
  {
   "cell_type": "code",
   "execution_count": 4,
   "metadata": {},
   "outputs": [
    {
     "ename": "error",
     "evalue": "OpenCV(4.4.0) /tmp/pip-req-build-6179nsls/opencv/modules/imgproc/src/color.cpp:182: error: (-215:Assertion failed) !_src.empty() in function 'cvtColor'\n",
     "output_type": "error",
     "traceback": [
      "\u001b[0;31m---------------------------------------------------------------------------\u001b[0m",
      "\u001b[0;31merror\u001b[0m                                     Traceback (most recent call last)",
      "\u001b[0;32m<ipython-input-4-981160511ac1>\u001b[0m in \u001b[0;36m<module>\u001b[0;34m\u001b[0m\n\u001b[1;32m      4\u001b[0m \u001b[0mcap\u001b[0m \u001b[0;34m=\u001b[0m \u001b[0mcv2\u001b[0m\u001b[0;34m.\u001b[0m\u001b[0mVideoCapture\u001b[0m\u001b[0;34m(\u001b[0m\u001b[0;36m0\u001b[0m\u001b[0;34m)\u001b[0m\u001b[0;34m\u001b[0m\u001b[0;34m\u001b[0m\u001b[0m\n\u001b[1;32m      5\u001b[0m \u001b[0mret\u001b[0m\u001b[0;34m,\u001b[0m \u001b[0mframe1\u001b[0m \u001b[0;34m=\u001b[0m \u001b[0mcap\u001b[0m\u001b[0;34m.\u001b[0m\u001b[0mread\u001b[0m\u001b[0;34m(\u001b[0m\u001b[0;34m)\u001b[0m\u001b[0;34m\u001b[0m\u001b[0;34m\u001b[0m\u001b[0m\n\u001b[0;32m----> 6\u001b[0;31m \u001b[0mprvs\u001b[0m \u001b[0;34m=\u001b[0m \u001b[0mcv2\u001b[0m\u001b[0;34m.\u001b[0m\u001b[0mcvtColor\u001b[0m\u001b[0;34m(\u001b[0m\u001b[0mframe1\u001b[0m\u001b[0;34m,\u001b[0m\u001b[0mcv2\u001b[0m\u001b[0;34m.\u001b[0m\u001b[0mCOLOR_BGR2GRAY\u001b[0m\u001b[0;34m)\u001b[0m\u001b[0;34m\u001b[0m\u001b[0;34m\u001b[0m\u001b[0m\n\u001b[0m\u001b[1;32m      7\u001b[0m \u001b[0mhsv\u001b[0m \u001b[0;34m=\u001b[0m \u001b[0mnp\u001b[0m\u001b[0;34m.\u001b[0m\u001b[0mzeros_like\u001b[0m\u001b[0;34m(\u001b[0m\u001b[0mframe1\u001b[0m\u001b[0;34m)\u001b[0m\u001b[0;34m\u001b[0m\u001b[0;34m\u001b[0m\u001b[0m\n\u001b[1;32m      8\u001b[0m \u001b[0mhsv\u001b[0m\u001b[0;34m[\u001b[0m\u001b[0;34m...\u001b[0m\u001b[0;34m,\u001b[0m\u001b[0;36m1\u001b[0m\u001b[0;34m]\u001b[0m \u001b[0;34m=\u001b[0m \u001b[0;36m255\u001b[0m\u001b[0;34m\u001b[0m\u001b[0;34m\u001b[0m\u001b[0m\n",
      "\u001b[0;31merror\u001b[0m: OpenCV(4.4.0) /tmp/pip-req-build-6179nsls/opencv/modules/imgproc/src/color.cpp:182: error: (-215:Assertion failed) !_src.empty() in function 'cvtColor'\n"
     ]
    }
   ],
   "source": [
    "import cv2\n",
    "import numpy as np\n",
    " \n",
    "cap = cv2.VideoCapture(0)\n",
    "ret, frame1 = cap.read()\n",
    "prvs = cv2.cvtColor(frame1,cv2.COLOR_BGR2GRAY)\n",
    "hsv = np.zeros_like(frame1)\n",
    "hsv[...,1] = 255\n",
    " \n",
    "while(1):\n",
    "    ret, frame2 = cap.read()\n",
    "    next = cv2.cvtColor(frame2,cv2.COLOR_BGR2GRAY)\n",
    "\n",
    "    flow = cv2.calcOpticalFlowFarneback(prvs,next, None, 0.5, 3, 15, 3, 5, 1.2, 0)\n",
    "\n",
    "    mag, ang = cv2.cartToPolar(flow[...,0], flow[...,1])\n",
    "    hsv[...,0] = ang*180/np.pi/2\n",
    "    hsv[...,2] = cv2.normalize(mag,None,0,255,cv2.NORM_MINMAX)\n",
    "    rgb = cv2.cvtColor(hsv,cv2.COLOR_HSV2BGR)\n",
    "\n",
    "    cv2.imshow('frame2',rgb)\n",
    "    k = cv2.waitKey(30) & 0xff\n",
    "    if k == 27:\n",
    "        break\n",
    "    elif k == ord('s'):\n",
    "        cv2.imwrite('opticalfb.png',frame2)\n",
    "        cv2.imwrite('opticalhsv.png',rgb)\n",
    "    prvs = next\n",
    "   \n",
    "    k = cv2.waitKey(30) & 0xff\n",
    "    if k == 27:\n",
    "        break\n",
    " \n",
    "cap.release()\n",
    "cv2.destroyAllWindows()"
   ]
  },
  {
   "cell_type": "code",
   "execution_count": null,
   "metadata": {},
   "outputs": [],
   "source": []
  }
 ],
 "metadata": {
  "kernelspec": {
   "display_name": "Python 3",
   "language": "python",
   "name": "python3"
  },
  "language_info": {
   "codemirror_mode": {
    "name": "ipython",
    "version": 3
   },
   "file_extension": ".py",
   "mimetype": "text/x-python",
   "name": "python",
   "nbconvert_exporter": "python",
   "pygments_lexer": "ipython3",
   "version": "3.8.6"
  }
 },
 "nbformat": 4,
 "nbformat_minor": 4
}
